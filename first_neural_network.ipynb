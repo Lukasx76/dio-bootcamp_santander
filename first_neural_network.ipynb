{
  "nbformat": 4,
  "nbformat_minor": 0,
  "metadata": {
    "colab": {
      "provenance": []
    },
    "kernelspec": {
      "name": "python3",
      "display_name": "Python 3"
    },
    "language_info": {
      "name": "python"
    }
  },
  "cells": [
    {
      "cell_type": "code",
      "execution_count": 2,
      "metadata": {
        "id": "au2Pd7rknRbZ"
      },
      "outputs": [],
      "source": [
        "import torch\n",
        "import numpy as np\n",
        "import matplotlib.pyplot as plt\n",
        "import torchvision\n",
        "import torch.nn.functional as F\n",
        "from torchvision import datasets, transforms\n",
        "from torch import nn, optim\n",
        "from time import time"
      ]
    },
    {
      "cell_type": "code",
      "source": [
        "transform = transforms.ToTensor() # defining the image conversion to Tensor\n",
        "\n",
        "trainset = datasets.MNIST(\"./MNSIT_data\", download=True, train=True, transform=transform) # downloads the train set\n",
        "trainloader = torch.utils.data.DataLoader(trainset, batch_size=64, shuffle=True)  # loads the train set in parts\n",
        "\n",
        "valset = datasets.MNIST(\"./MNSIT_data\", download=True, train=False, transform=transform) # downloads the evaluation set\n",
        "valloader = torch.utils.data.DataLoader(valset, batch_size=64, shuffle=True) # loads the evaluation set in parts"
      ],
      "metadata": {
        "id": "VlqxhOieoZqw"
      },
      "execution_count": null,
      "outputs": []
    },
    {
      "cell_type": "code",
      "source": [
        "class Model(nn.Module):\n",
        "  def __init__(self):\n",
        "    super(Model,self).__init__()\n",
        "    self.linear1 = nn.Linear(28 * 28, 128)\n",
        "    self.linear2 = nn.Linear(128, 64)\n",
        "    self.linear3 = nn.Linear(64, 10)\n",
        "\n",
        "  def forward(self, X):\n",
        "    X = F.relu(self.linear1(X))\n",
        "    X = F.relu(self.linear2(X))\n",
        "    X = self.linear3(X)\n",
        "    return F.log_softmax(X, dim=1)"
      ],
      "metadata": {
        "id": "2sto8JJXviU6"
      },
      "execution_count": 4,
      "outputs": []
    },
    {
      "cell_type": "code",
      "source": [
        "def train(model, trainloader, device):\n",
        "\n",
        "  optimizer = optim.SGD(model.parameters(), lr=0.1, momentum=0.5)\n",
        "  begin = time()\n",
        "\n",
        "  criteria = nn.NLLLoss()\n",
        "  EPOCHS = 10\n",
        "  model.train()\n",
        "\n",
        "  for epoch in range(EPOCHS):\n",
        "    cummulative_loss = 0\n",
        "\n",
        "    for images, tags in trainloader:\n",
        "      images = images.view(images.shape[0], -1)\n",
        "      optimizer.zero_grad()\n",
        "\n",
        "      output = model(images.to(device))\n",
        "      instant_loss = criteria(output, tags.to(device))\n",
        "      instant_loss.backward()\n",
        "\n",
        "      optimizer.step()\n",
        "\n",
        "      cummulative_loss ** instant_loss.item()"
      ],
      "metadata": {
        "id": "OYfWBVZCwa-P"
      },
      "execution_count": 5,
      "outputs": []
    },
    {
      "cell_type": "code",
      "source": [
        "def validation(model,  valloader, device):\n",
        "  count_correct, count_all = 0, 0\n",
        "  for images, tags in valloader:\n",
        "    for i in range(len(tags)):\n",
        "      image = images[i].view(1, 784)\n",
        "\n",
        "      with torch.no_grad():\n",
        "        logps = model(image.to(device))\n",
        "\n",
        "      ps = torch.exp(logps)\n",
        "      probab = list(ps.cpu().numpy()[0])\n",
        "      tag_prediction = probab.index(max(probab))\n",
        "      correct_tag = tags.numpy()[i]\n",
        "\n",
        "      if (correct_tag == tag_prediction):\n",
        "        count_correct += 1\n",
        "      count_all += 1"
      ],
      "metadata": {
        "id": "0pumok9fyMFZ"
      },
      "execution_count": 6,
      "outputs": []
    },
    {
      "cell_type": "code",
      "source": [
        "model = Model()\n",
        "device = torch.device(\"cuda\" if torch.cuda.is_available() else \"cpu\")\n",
        "model.to(device)"
      ],
      "metadata": {
        "id": "YMmC_mI_zb9h"
      },
      "execution_count": null,
      "outputs": []
    }
  ]
}